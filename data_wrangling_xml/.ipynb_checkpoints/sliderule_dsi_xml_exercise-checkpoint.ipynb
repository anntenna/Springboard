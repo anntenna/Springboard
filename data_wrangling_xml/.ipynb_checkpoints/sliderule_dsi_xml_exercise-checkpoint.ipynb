{
 "cells": [
  {
   "cell_type": "markdown",
   "metadata": {},
   "source": [
    "# XML example and exercise\n",
    "****\n",
    "+ study examples of accessing nodes in XML tree structure  \n",
    "+ work on exercise to be completed and submitted\n",
    "****\n",
    "+ reference: https://docs.python.org/2.7/library/xml.etree.elementtree.html\n",
    "+ data source: http://www.dbis.informatik.uni-goettingen.de/Mondial\n",
    "****"
   ]
  },
  {
   "cell_type": "code",
   "execution_count": 11,
   "metadata": {
    "collapsed": true
   },
   "outputs": [],
   "source": [
    "from xml.etree import ElementTree as ET"
   ]
  },
  {
   "cell_type": "markdown",
   "metadata": {},
   "source": [
    "## XML example\n",
    "\n",
    "+ for details about tree traversal and iterators, see https://docs.python.org/2.7/library/xml.etree.elementtree.html"
   ]
  },
  {
   "cell_type": "code",
   "execution_count": 12,
   "metadata": {
    "collapsed": true
   },
   "outputs": [],
   "source": [
    "document_tree = ET.parse( './data/mondial_database_less.xml' )"
   ]
  },
  {
   "cell_type": "code",
   "execution_count": 17,
   "metadata": {},
   "outputs": [
    {
     "data": {
      "text/plain": [
       "'Albania'"
      ]
     },
     "execution_count": 17,
     "metadata": {},
     "output_type": "execute_result"
    }
   ],
   "source": [
    "document_tree.getroot()[0].find('name').text"
   ]
  },
  {
   "cell_type": "code",
   "execution_count": 14,
   "metadata": {},
   "outputs": [
    {
     "name": "stdout",
     "output_type": "stream",
     "text": [
      "Albania\n",
      "Greece\n",
      "Macedonia\n",
      "Serbia\n",
      "Montenegro\n",
      "Kosovo\n",
      "Andorra\n"
     ]
    }
   ],
   "source": [
    "# print names of all countries\n",
    "for child in document_tree.getroot():\n",
    "    print (child.find('name').text)"
   ]
  },
  {
   "cell_type": "code",
   "execution_count": 9,
   "metadata": {},
   "outputs": [
    {
     "name": "stdout",
     "output_type": "stream",
     "text": [
      "* Albania:\n",
      "Tirana, Shkodër, Durrës, Vlorë, Elbasan, Korçë\n",
      "* Greece:\n",
      "Komotini, Kavala, Athina, Peiraias, Peristeri, Acharnes, Patra, Kozani, Kerkyra, Ioannina, Thessaloniki, Iraklio, Chania, Ermoupoli, Rhodes, Tripoli, Lamia, Chalkida, Larissa, Volos, Mytilini, Karyes\n",
      "* Macedonia:\n",
      "Skopje, Kumanovo\n",
      "* Serbia:\n",
      "Beograd, Novi Sad, Niš\n",
      "* Montenegro:\n",
      "Podgorica\n",
      "* Kosovo:\n",
      "Prishtine\n",
      "* Andorra:\n",
      "Andorra la Vella\n"
     ]
    }
   ],
   "source": [
    "# print names of all countries and their cities\n",
    "for element in document_tree.iterfind('country'):\n",
    "    print ('* ' + element.find('name').text + ':'),\n",
    "    capitals_string = ''\n",
    "    for subelement in element.getiterator('city'):\n",
    "        capitals_string += subelement.find('name').text + ', '\n",
    "    print (capitals_string[:-2])"
   ]
  },
  {
   "cell_type": "markdown",
   "metadata": {},
   "source": [
    "****\n",
    "## XML exercise\n",
    "\n",
    "Using data in 'data/mondial_database.xml', the examples above, and refering to https://docs.python.org/2.7/library/xml.etree.elementtree.html, find\n",
    "\n",
    "1. 10 countries with the lowest infant mortality rates\n",
    "2. 10 cities with the largest population\n",
    "3. 10 ethnic groups with the largest overall populations (sum of best/latest estimates over all countries)\n",
    "4. name and country of a) longest river, b) largest lake and c) airport at highest elevation"
   ]
  },
  {
   "cell_type": "code",
   "execution_count": 37,
   "metadata": {},
   "outputs": [
    {
     "data": {
      "text/plain": [
       "{}"
      ]
     },
     "execution_count": 37,
     "metadata": {},
     "output_type": "execute_result"
    }
   ],
   "source": [
    "document = ET.parse( './data/mondial_database.xml' )\n",
    "root = document.getroot()\n",
    "root.attrib"
   ]
  },
  {
   "cell_type": "markdown",
   "metadata": {},
   "source": [
    "### 1. 10 countries with the lowest infant mortality rates\n",
    "I couldn't find a way to use ElementTree purely to sort the list, but that may not be the point of this after all. Here I've just loaded it into a dict and sorted the dict to get the countries with the lowest infant mortality rates."
   ]
  },
  {
   "cell_type": "code",
   "execution_count": 43,
   "metadata": {},
   "outputs": [
    {
     "data": {
      "text/plain": [
       "[('Monaco', 1.81),\n",
       " ('Japan', 2.13),\n",
       " ('Norway', 2.48),\n",
       " ('Bermuda', 2.48),\n",
       " ('Singapore', 2.53),\n",
       " ('Sweden', 2.6),\n",
       " ('Czech Republic', 2.63),\n",
       " ('Hong Kong', 2.73),\n",
       " ('Macao', 3.13),\n",
       " ('Iceland', 3.15)]"
      ]
     },
     "execution_count": 43,
     "metadata": {},
     "output_type": "execute_result"
    }
   ],
   "source": [
    "t = {}\n",
    "for country in root.findall('country'):\n",
    "    if ET.iselement(country.find('infant_mortality')):\n",
    "        name = country.find('name').text\n",
    "        inf_mort = country.find('infant_mortality').text\n",
    "        t[name] = float(inf_mort)\n",
    "\n",
    "t_sorted = sorted(t.items(), key=lambda x: x[1])\n",
    "t_sorted[:10]"
   ]
  },
  {
   "cell_type": "markdown",
   "metadata": {},
   "source": [
    "### 2. 10 cities with the largest population"
   ]
  },
  {
   "cell_type": "code",
   "execution_count": 75,
   "metadata": {},
   "outputs": [
    {
     "data": {
      "text/plain": [
       "[('Seoul', 9708483),\n",
       " ('Al Qahirah', 8471859),\n",
       " ('Bangkok', 7506700),\n",
       " ('Hong Kong', 7055071),\n",
       " ('Ho Chi Minh', 5968384),\n",
       " ('Singapore', 5076700),\n",
       " ('Al Iskandariyah', 4123869),\n",
       " ('New Taipei', 3939305),\n",
       " ('Busan', 3403135),\n",
       " ('Pyongyang', 3255288)]"
      ]
     },
     "execution_count": 75,
     "metadata": {},
     "output_type": "execute_result"
    }
   ],
   "source": [
    "t = {}\n",
    "for city in root.iterfind('country/city'):\n",
    "    p = {}\n",
    "    if ET.iselement(city.find('population')):\n",
    "        \n",
    "        # Collect all population elements into a dict to sort\n",
    "        for pop_element in city.findall('population'):\n",
    "            year = pop_element.attrib['year']\n",
    "            population = pop_element.text\n",
    "            p[int(year)] = int(population)\n",
    "        \n",
    "        # Sort descending by year, extract first value\n",
    "        p_sorted = sorted(p.items(), key=lambda x:x[0], reverse=True)\n",
    "        city_name = city.find('name').text\n",
    "        latest_popl = p_sorted[0][1]\n",
    "        t[city_name] = int(latest_popl)\n",
    "\n",
    "# Sort descending by population, print first 10\n",
    "t_sorted = sorted(t.items(), key=lambda x:x[1], reverse=True)\n",
    "t_sorted[:10]"
   ]
  },
  {
   "cell_type": "markdown",
   "metadata": {},
   "source": [
    "#### Avoiding the second for loop\n",
    "After eyeballing the xml input file, I think it's safe to assume that the population would be in ascending order of year, so I'd just need to pick the last population element for each city."
   ]
  },
  {
   "cell_type": "code",
   "execution_count": 79,
   "metadata": {},
   "outputs": [
    {
     "data": {
      "text/plain": [
       "[('Seoul', 9708483),\n",
       " ('Al Qahirah', 8471859),\n",
       " ('Bangkok', 7506700),\n",
       " ('Hong Kong', 7055071),\n",
       " ('Ho Chi Minh', 5968384),\n",
       " ('Singapore', 5076700),\n",
       " ('Al Iskandariyah', 4123869),\n",
       " ('New Taipei', 3939305),\n",
       " ('Busan', 3403135),\n",
       " ('Pyongyang', 3255288)]"
      ]
     },
     "execution_count": 79,
     "metadata": {},
     "output_type": "execute_result"
    }
   ],
   "source": [
    "t = {}\n",
    "for city in root.iterfind('country/city'):\n",
    "    if ET.iselement(city.find('population')):\n",
    "        \n",
    "        #Get last population element\n",
    "        population = city.findall('population')[-1].text\n",
    "        city_name = city.find('name').text\n",
    "        t[city_name] = int(population)\n",
    "\n",
    "# Sort descending by population, print first 10\n",
    "t_sorted = sorted(t.items(), key=lambda x:x[1], reverse=True)\n",
    "t_sorted[:10]"
   ]
  },
  {
   "cell_type": "markdown",
   "metadata": {},
   "source": [
    "### 3. 10 ethnic groups with the largest overall populations (sum of best/latest estimates over all countries)\n",
    "Now it gets interesting. Each country element could have multiple 'population' elements and multiple 'ethnicgroup' elements. Each 'ethnicgroup' element has a 'percentage' attribute. For instance, this is an example element:\n",
    "    \n",
    "    <country car_code=\"AL\"\n",
    "            area=\"28750\">\n",
    "        <name>Albania</name>\n",
    "        <population year=\"2001\" measured=\"census\">3069275</population>\n",
    "        <population year=\"2011\" measured=\"census\">2800138</population>\n",
    "        ...\n",
    "        <ethnicgroup percentage=\"95\">Albanian</ethnicgroup>\n",
    "        <ethnicgroup percentage=\"3\">Greek</ethnicgroup>\n",
    "    </country>\n",
    "    \n",
    "This means that we will need a list of ethnicity-wise populations for each country that we parse. I'm going to use a Pandas Dataframe here because it will be useful to have for other calculations too."
   ]
  },
  {
   "cell_type": "code",
   "execution_count": 105,
   "metadata": {},
   "outputs": [
    {
     "data": {
      "text/plain": [
       "ethnicgroup\n",
       "Han Chinese   1245058800.000\n",
       "Indo-Aryan     871815583.440\n",
       "European       494872219.720\n",
       "African        318325120.369\n",
       "Dravidian      302713744.250\n",
       "Mestizo        157734354.937\n",
       "Bengali        146776916.720\n",
       "Russian        131856996.077\n",
       "Japanese       126534212.000\n",
       "Malay          121993550.374\n",
       "Name: population, dtype: float64"
      ]
     },
     "execution_count": 105,
     "metadata": {},
     "output_type": "execute_result"
    }
   ],
   "source": [
    "from pandas import DataFrame\n",
    "\n",
    "t = []\n",
    "for country in root.findall('country'):\n",
    "    if ET.iselement(country.find('ethnicgroup')):\n",
    "        name = country.find('name').text\n",
    "        population = int(country.findall('population')[-1].text)\n",
    "        \n",
    "        # Calculate population for each ethnic group\n",
    "        for ethnicgroup in country.findall('ethnicgroup'):\n",
    "            eg_name = ethnicgroup.text\n",
    "            eg_population = float(population) * float(ethnicgroup.attrib['percentage']) / 100\n",
    "            \n",
    "            t.append({'country': name, 'ethnicgroup': eg_name, 'population': eg_population})\n",
    "\n",
    "df = DataFrame(t)\n",
    "pd.set_option('display.float_format', lambda x: '%.3f' % x)    # Setting display format of float to avoid scientific format\n",
    "df.groupby('ethnicgroup')['population'].sum().sort_values(ascending=False)[:10]"
   ]
  },
  {
   "cell_type": "markdown",
   "metadata": {},
   "source": [
    "### 4. name and country of a) longest river, b) largest lake and c) airport at highest elevation"
   ]
  },
  {
   "cell_type": "code",
   "execution_count": 146,
   "metadata": {},
   "outputs": [
    {
     "data": {
      "text/html": [
       "<div>\n",
       "<style>\n",
       "    .dataframe thead tr:only-child th {\n",
       "        text-align: right;\n",
       "    }\n",
       "\n",
       "    .dataframe thead th {\n",
       "        text-align: left;\n",
       "    }\n",
       "\n",
       "    .dataframe tbody tr th {\n",
       "        vertical-align: top;\n",
       "    }\n",
       "</style>\n",
       "<table border=\"1\" class=\"dataframe\">\n",
       "  <thead>\n",
       "    <tr style=\"text-align: right;\">\n",
       "      <th></th>\n",
       "      <th>countries</th>\n",
       "      <th>length</th>\n",
       "      <th>name</th>\n",
       "    </tr>\n",
       "  </thead>\n",
       "  <tbody>\n",
       "    <tr>\n",
       "      <th>174</th>\n",
       "      <td>Colombia,Brazil,Peru</td>\n",
       "      <td>6448.000</td>\n",
       "      <td>Amazonas</td>\n",
       "    </tr>\n",
       "    <tr>\n",
       "      <th>137</th>\n",
       "      <td>China</td>\n",
       "      <td>6380.000</td>\n",
       "      <td>Jangtse</td>\n",
       "    </tr>\n",
       "    <tr>\n",
       "      <th>136</th>\n",
       "      <td>China</td>\n",
       "      <td>4845.000</td>\n",
       "      <td>Hwangho</td>\n",
       "    </tr>\n",
       "    <tr>\n",
       "      <th>123</th>\n",
       "      <td>Russia</td>\n",
       "      <td>4400.000</td>\n",
       "      <td>Lena</td>\n",
       "    </tr>\n",
       "    <tr>\n",
       "      <th>201</th>\n",
       "      <td>Congo,Zaire</td>\n",
       "      <td>4374.000</td>\n",
       "      <td>Zaire</td>\n",
       "    </tr>\n",
       "    <tr>\n",
       "      <th>138</th>\n",
       "      <td>China,Laos,Thailand,Cambodia,Vietnam</td>\n",
       "      <td>4350.000</td>\n",
       "      <td>Mekong</td>\n",
       "    </tr>\n",
       "    <tr>\n",
       "      <th>115</th>\n",
       "      <td>Russia,Kazakhstan,China</td>\n",
       "      <td>4248.000</td>\n",
       "      <td>Irtysch</td>\n",
       "    </tr>\n",
       "    <tr>\n",
       "      <th>186</th>\n",
       "      <td>Mali,Niger,Nigeria,Guinea</td>\n",
       "      <td>4184.000</td>\n",
       "      <td>Niger</td>\n",
       "    </tr>\n",
       "    <tr>\n",
       "      <th>160</th>\n",
       "      <td>United States</td>\n",
       "      <td>4130.000</td>\n",
       "      <td>Missouri</td>\n",
       "    </tr>\n",
       "    <tr>\n",
       "      <th>119</th>\n",
       "      <td>Russia</td>\n",
       "      <td>4092.000</td>\n",
       "      <td>Jenissej</td>\n",
       "    </tr>\n",
       "  </tbody>\n",
       "</table>\n",
       "</div>"
      ],
      "text/plain": [
       "                                countries   length      name\n",
       "174                  Colombia,Brazil,Peru 6448.000  Amazonas\n",
       "137                                 China 6380.000   Jangtse\n",
       "136                                 China 4845.000   Hwangho\n",
       "123                                Russia 4400.000      Lena\n",
       "201                           Congo,Zaire 4374.000     Zaire\n",
       "138  China,Laos,Thailand,Cambodia,Vietnam 4350.000    Mekong\n",
       "115               Russia,Kazakhstan,China 4248.000   Irtysch\n",
       "186             Mali,Niger,Nigeria,Guinea 4184.000     Niger\n",
       "160                         United States 4130.000  Missouri\n",
       "119                                Russia 4092.000  Jenissej"
      ]
     },
     "execution_count": 146,
     "metadata": {},
     "output_type": "execute_result"
    }
   ],
   "source": [
    "# Longest river\n",
    "\n",
    "# Defining a function to get country names from country codes\n",
    "def get_country_from_code(country_codes):\n",
    "    countries = ''\n",
    "    for country_code in country_codes:\n",
    "        country = root.find('country[@car_code=\"{}\"]'.format(country_code))\n",
    "        if ET.iselement(country):\n",
    "            countries += country.find('name').text + ','\n",
    "    return countries.rstrip(',')\n",
    "\n",
    "r = []\n",
    "for river in root.findall('river'):\n",
    "    if ET.iselement(river.find('length')):\n",
    "        name = river.find('name').text\n",
    "        country_codes = river.attrib['country'].split()\n",
    "        length = float(river.find('length').text)\n",
    "\n",
    "        countries = get_country_from_code(country_codes)\n",
    "        r.append({'name': name, 'countries': countries, 'length': length})\n",
    "        \n",
    "riversdf = DataFrame(r).sort_values(by='length',ascending=False)[:10]\n",
    "riversdf"
   ]
  },
  {
   "cell_type": "code",
   "execution_count": 145,
   "metadata": {},
   "outputs": [
    {
     "data": {
      "text/html": [
       "<div>\n",
       "<style>\n",
       "    .dataframe thead tr:only-child th {\n",
       "        text-align: right;\n",
       "    }\n",
       "\n",
       "    .dataframe thead th {\n",
       "        text-align: left;\n",
       "    }\n",
       "\n",
       "    .dataframe tbody tr th {\n",
       "        vertical-align: top;\n",
       "    }\n",
       "</style>\n",
       "<table border=\"1\" class=\"dataframe\">\n",
       "  <thead>\n",
       "    <tr style=\"text-align: right;\">\n",
       "      <th></th>\n",
       "      <th>area</th>\n",
       "      <th>countries</th>\n",
       "      <th>name</th>\n",
       "    </tr>\n",
       "  </thead>\n",
       "  <tbody>\n",
       "    <tr>\n",
       "      <th>54</th>\n",
       "      <td>386400.000</td>\n",
       "      <td>Russia,Azerbaijan,Kazakhstan,Iran,Turkmenistan</td>\n",
       "      <td>Caspian Sea</td>\n",
       "    </tr>\n",
       "    <tr>\n",
       "      <th>107</th>\n",
       "      <td>82103.000</td>\n",
       "      <td>Canada,United States</td>\n",
       "      <td>Lake Superior</td>\n",
       "    </tr>\n",
       "    <tr>\n",
       "      <th>79</th>\n",
       "      <td>68870.000</td>\n",
       "      <td>Tanzania,Kenya,Uganda</td>\n",
       "      <td>Lake Victoria</td>\n",
       "    </tr>\n",
       "    <tr>\n",
       "      <th>104</th>\n",
       "      <td>59600.000</td>\n",
       "      <td>Canada,United States</td>\n",
       "      <td>Lake Huron</td>\n",
       "    </tr>\n",
       "    <tr>\n",
       "      <th>106</th>\n",
       "      <td>57800.000</td>\n",
       "      <td>United States</td>\n",
       "      <td>Lake Michigan</td>\n",
       "    </tr>\n",
       "    <tr>\n",
       "      <th>47</th>\n",
       "      <td>41650.000</td>\n",
       "      <td>Israel,Jordan,West Bank</td>\n",
       "      <td>Dead Sea</td>\n",
       "    </tr>\n",
       "    <tr>\n",
       "      <th>81</th>\n",
       "      <td>32893.000</td>\n",
       "      <td>Zaire,Zambia,Burundi,Tanzania</td>\n",
       "      <td>Lake Tanganjika</td>\n",
       "    </tr>\n",
       "    <tr>\n",
       "      <th>96</th>\n",
       "      <td>31792.000</td>\n",
       "      <td>Canada</td>\n",
       "      <td>Great Bear Lake</td>\n",
       "    </tr>\n",
       "    <tr>\n",
       "      <th>43</th>\n",
       "      <td>31492.000</td>\n",
       "      <td>Russia</td>\n",
       "      <td>Ozero Baikal</td>\n",
       "    </tr>\n",
       "    <tr>\n",
       "      <th>87</th>\n",
       "      <td>29600.000</td>\n",
       "      <td>Malawi,Mozambique,Tanzania</td>\n",
       "      <td>Lake Malawi</td>\n",
       "    </tr>\n",
       "  </tbody>\n",
       "</table>\n",
       "</div>"
      ],
      "text/plain": [
       "          area                                       countries  \\\n",
       "54  386400.000  Russia,Azerbaijan,Kazakhstan,Iran,Turkmenistan   \n",
       "107  82103.000                            Canada,United States   \n",
       "79   68870.000                           Tanzania,Kenya,Uganda   \n",
       "104  59600.000                            Canada,United States   \n",
       "106  57800.000                                   United States   \n",
       "47   41650.000                         Israel,Jordan,West Bank   \n",
       "81   32893.000                   Zaire,Zambia,Burundi,Tanzania   \n",
       "96   31792.000                                          Canada   \n",
       "43   31492.000                                          Russia   \n",
       "87   29600.000                      Malawi,Mozambique,Tanzania   \n",
       "\n",
       "                name  \n",
       "54       Caspian Sea  \n",
       "107    Lake Superior  \n",
       "79     Lake Victoria  \n",
       "104       Lake Huron  \n",
       "106    Lake Michigan  \n",
       "47          Dead Sea  \n",
       "81   Lake Tanganjika  \n",
       "96   Great Bear Lake  \n",
       "43      Ozero Baikal  \n",
       "87       Lake Malawi  "
      ]
     },
     "execution_count": 145,
     "metadata": {},
     "output_type": "execute_result"
    }
   ],
   "source": [
    "# Largest lake\n",
    "\n",
    "l = []\n",
    "for lake in root.findall('lake'):\n",
    "    if ET.iselement(lake.find('area')):\n",
    "        name = lake.find('name').text\n",
    "        country_codes = lake.attrib['country'].split()\n",
    "        area = float(lake.find('area').text)\n",
    "        \n",
    "        countries = get_country_from_code(country_codes)\n",
    "        l.append({'name': name, 'countries': countries, 'area': area})\n",
    "        \n",
    "lakesdf = DataFrame(l).sort_values(by='area',ascending=False)[:10]\n",
    "lakesdf"
   ]
  },
  {
   "cell_type": "code",
   "execution_count": 144,
   "metadata": {},
   "outputs": [
    {
     "data": {
      "text/html": [
       "<div>\n",
       "<style>\n",
       "    .dataframe thead tr:only-child th {\n",
       "        text-align: right;\n",
       "    }\n",
       "\n",
       "    .dataframe thead th {\n",
       "        text-align: left;\n",
       "    }\n",
       "\n",
       "    .dataframe tbody tr th {\n",
       "        vertical-align: top;\n",
       "    }\n",
       "</style>\n",
       "<table border=\"1\" class=\"dataframe\">\n",
       "  <thead>\n",
       "    <tr style=\"text-align: right;\">\n",
       "      <th></th>\n",
       "      <th>countries</th>\n",
       "      <th>elevation</th>\n",
       "      <th>name</th>\n",
       "    </tr>\n",
       "  </thead>\n",
       "  <tbody>\n",
       "    <tr>\n",
       "      <th>80</th>\n",
       "      <td>Bolivia</td>\n",
       "      <td>4063.000</td>\n",
       "      <td>El Alto Intl</td>\n",
       "    </tr>\n",
       "    <tr>\n",
       "      <th>212</th>\n",
       "      <td>China</td>\n",
       "      <td>4005.000</td>\n",
       "      <td>Lhasa-Gonggar</td>\n",
       "    </tr>\n",
       "    <tr>\n",
       "      <th>230</th>\n",
       "      <td>China</td>\n",
       "      <td>3963.000</td>\n",
       "      <td>Yushu Batang</td>\n",
       "    </tr>\n",
       "    <tr>\n",
       "      <th>787</th>\n",
       "      <td>Peru</td>\n",
       "      <td>3827.000</td>\n",
       "      <td>Juliaca</td>\n",
       "    </tr>\n",
       "    <tr>\n",
       "      <th>789</th>\n",
       "      <td>Peru</td>\n",
       "      <td>3311.000</td>\n",
       "      <td>Teniente Alejandro Velasco Astete Intl</td>\n",
       "    </tr>\n",
       "    <tr>\n",
       "      <th>82</th>\n",
       "      <td>Bolivia</td>\n",
       "      <td>2905.000</td>\n",
       "      <td>Juana Azurduy De Padilla</td>\n",
       "    </tr>\n",
       "    <tr>\n",
       "      <th>308</th>\n",
       "      <td>Ecuador</td>\n",
       "      <td>2813.000</td>\n",
       "      <td>Mariscal Sucre Intl</td>\n",
       "    </tr>\n",
       "    <tr>\n",
       "      <th>779</th>\n",
       "      <td>Peru</td>\n",
       "      <td>2719.000</td>\n",
       "      <td>Coronel Fap Alfredo Mendivil Duarte</td>\n",
       "    </tr>\n",
       "    <tr>\n",
       "      <th>781</th>\n",
       "      <td>Peru</td>\n",
       "      <td>2677.000</td>\n",
       "      <td>Mayor General FAP Armando Revoredo Iglesias Ai...</td>\n",
       "    </tr>\n",
       "    <tr>\n",
       "      <th>666</th>\n",
       "      <td>Mexico</td>\n",
       "      <td>2581.000</td>\n",
       "      <td>Licenciado Adolfo Lopez Mateos Intl</td>\n",
       "    </tr>\n",
       "  </tbody>\n",
       "</table>\n",
       "</div>"
      ],
      "text/plain": [
       "    countries  elevation                                               name\n",
       "80    Bolivia   4063.000                                       El Alto Intl\n",
       "212     China   4005.000                                      Lhasa-Gonggar\n",
       "230     China   3963.000                                       Yushu Batang\n",
       "787      Peru   3827.000                                            Juliaca\n",
       "789      Peru   3311.000             Teniente Alejandro Velasco Astete Intl\n",
       "82    Bolivia   2905.000                           Juana Azurduy De Padilla\n",
       "308   Ecuador   2813.000                                Mariscal Sucre Intl\n",
       "779      Peru   2719.000                Coronel Fap Alfredo Mendivil Duarte\n",
       "781      Peru   2677.000  Mayor General FAP Armando Revoredo Iglesias Ai...\n",
       "666    Mexico   2581.000                Licenciado Adolfo Lopez Mateos Intl"
      ]
     },
     "execution_count": 144,
     "metadata": {},
     "output_type": "execute_result"
    }
   ],
   "source": [
    "# Airport at highest elevation\n",
    "\n",
    "a = []\n",
    "for airport in root.findall('airport'):\n",
    "    if (ET.iselement(airport.find('elevation'))) & (airport.find('elevation').text != None):\n",
    "        name = airport.find('name').text\n",
    "        country_codes = airport.attrib['country'].split()\n",
    "        elevation = float(airport.find('elevation').text) \n",
    "        countries = get_country_from_code(country_codes)\n",
    "        a.append({'name': name, 'countries': countries, 'elevation': elevation})\n",
    "        \n",
    "airportsdf = DataFrame(a).sort_values(by='elevation',ascending=False)[:10]\n",
    "airportsdf\n"
   ]
  },
  {
   "cell_type": "code",
   "execution_count": null,
   "metadata": {
    "collapsed": true
   },
   "outputs": [],
   "source": []
  },
  {
   "cell_type": "code",
   "execution_count": null,
   "metadata": {
    "collapsed": true
   },
   "outputs": [],
   "source": []
  },
  {
   "cell_type": "code",
   "execution_count": null,
   "metadata": {
    "collapsed": true
   },
   "outputs": [],
   "source": []
  },
  {
   "cell_type": "code",
   "execution_count": null,
   "metadata": {
    "collapsed": true
   },
   "outputs": [],
   "source": []
  },
  {
   "cell_type": "code",
   "execution_count": null,
   "metadata": {
    "collapsed": true
   },
   "outputs": [],
   "source": []
  },
  {
   "cell_type": "code",
   "execution_count": null,
   "metadata": {
    "collapsed": true
   },
   "outputs": [],
   "source": []
  },
  {
   "cell_type": "code",
   "execution_count": null,
   "metadata": {
    "collapsed": true
   },
   "outputs": [],
   "source": []
  }
 ],
 "metadata": {
  "kernelspec": {
   "display_name": "Python 2",
   "language": "python",
   "name": "python2"
  },
  "language_info": {
   "codemirror_mode": {
    "name": "ipython",
    "version": 3
   },
   "file_extension": ".py",
   "mimetype": "text/x-python",
   "name": "python",
   "nbconvert_exporter": "python",
   "pygments_lexer": "ipython3",
   "version": "3.6.1"
  }
 },
 "nbformat": 4,
 "nbformat_minor": 1
}
