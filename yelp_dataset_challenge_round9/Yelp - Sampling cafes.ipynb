{
 "cells": [
  {
   "cell_type": "code",
   "execution_count": 20,
   "metadata": {
    "collapsed": true
   },
   "outputs": [],
   "source": [
    "import pandas as pd\n",
    "from pandas import DataFrame"
   ]
  },
  {
   "cell_type": "code",
   "execution_count": 2,
   "metadata": {},
   "outputs": [
    {
     "data": {
      "text/html": [
       "<div>\n",
       "<style>\n",
       "    .dataframe thead tr:only-child th {\n",
       "        text-align: right;\n",
       "    }\n",
       "\n",
       "    .dataframe thead th {\n",
       "        text-align: left;\n",
       "    }\n",
       "\n",
       "    .dataframe tbody tr th {\n",
       "        vertical-align: top;\n",
       "    }\n",
       "</style>\n",
       "<table border=\"1\" class=\"dataframe\">\n",
       "  <thead>\n",
       "    <tr style=\"text-align: right;\">\n",
       "      <th></th>\n",
       "      <th>address</th>\n",
       "      <th>attributes</th>\n",
       "      <th>business_id</th>\n",
       "      <th>categories</th>\n",
       "      <th>city</th>\n",
       "      <th>hours</th>\n",
       "      <th>is_open</th>\n",
       "      <th>latitude</th>\n",
       "      <th>longitude</th>\n",
       "      <th>name</th>\n",
       "      <th>neighborhood</th>\n",
       "      <th>postal_code</th>\n",
       "      <th>review_count</th>\n",
       "      <th>stars</th>\n",
       "      <th>state</th>\n",
       "      <th>type</th>\n",
       "    </tr>\n",
       "  </thead>\n",
       "  <tbody>\n",
       "    <tr>\n",
       "      <th>0</th>\n",
       "      <td>227 E Baseline Rd, Ste J2</td>\n",
       "      <td>['BikeParking: True', 'BusinessAcceptsBitcoin:...</td>\n",
       "      <td>0DI8Dt2PJp07XkVvIElIcQ</td>\n",
       "      <td>['Tobacco Shops', 'Nightlife', 'Vape Shops', '...</td>\n",
       "      <td>Tempe</td>\n",
       "      <td>['Monday 11:0-21:0', 'Tuesday 11:0-21:0', 'Wed...</td>\n",
       "      <td>0</td>\n",
       "      <td>33.378214</td>\n",
       "      <td>-111.936102</td>\n",
       "      <td>Innovative Vapors</td>\n",
       "      <td>NaN</td>\n",
       "      <td>85283</td>\n",
       "      <td>17</td>\n",
       "      <td>4.5</td>\n",
       "      <td>AZ</td>\n",
       "      <td>business</td>\n",
       "    </tr>\n",
       "    <tr>\n",
       "      <th>1</th>\n",
       "      <td>495 S Grand Central Pkwy</td>\n",
       "      <td>['BusinessAcceptsBitcoin: False', 'BusinessAcc...</td>\n",
       "      <td>LTlCaCGZE14GuaUXUGbamg</td>\n",
       "      <td>['Caterers', 'Grocery', 'Food', 'Event Plannin...</td>\n",
       "      <td>Las Vegas</td>\n",
       "      <td>['Monday 0:0-0:0', 'Tuesday 0:0-0:0', 'Wednesd...</td>\n",
       "      <td>1</td>\n",
       "      <td>36.192284</td>\n",
       "      <td>-115.159272</td>\n",
       "      <td>Cut and Taste</td>\n",
       "      <td>NaN</td>\n",
       "      <td>89106</td>\n",
       "      <td>9</td>\n",
       "      <td>5.0</td>\n",
       "      <td>NV</td>\n",
       "      <td>business</td>\n",
       "    </tr>\n",
       "    <tr>\n",
       "      <th>2</th>\n",
       "      <td>979 Bloor Street W</td>\n",
       "      <td>['Alcohol: none', \"Ambience: {'romantic': Fals...</td>\n",
       "      <td>EDqCEAGXVGCH4FJXgqtjqg</td>\n",
       "      <td>['Restaurants', 'Pizza', 'Chicken Wings', 'Ita...</td>\n",
       "      <td>Toronto</td>\n",
       "      <td>['Monday 11:0-2:0', 'Tuesday 11:0-2:0', 'Wedne...</td>\n",
       "      <td>1</td>\n",
       "      <td>43.661054</td>\n",
       "      <td>-79.429089</td>\n",
       "      <td>Pizza Pizza</td>\n",
       "      <td>Dufferin Grove</td>\n",
       "      <td>M6H 1L5</td>\n",
       "      <td>7</td>\n",
       "      <td>2.5</td>\n",
       "      <td>ON</td>\n",
       "      <td>business</td>\n",
       "    </tr>\n",
       "    <tr>\n",
       "      <th>3</th>\n",
       "      <td>7014 Steubenville Pike</td>\n",
       "      <td>['AcceptsInsurance: False', 'BusinessAcceptsCr...</td>\n",
       "      <td>cnGIivYRLxpF7tBVR_JwWA</td>\n",
       "      <td>['Hair Removal', 'Beauty &amp; Spas', 'Blow Dry/Ou...</td>\n",
       "      <td>Oakdale</td>\n",
       "      <td>['Tuesday 10:0-21:0', 'Wednesday 10:0-21:0', '...</td>\n",
       "      <td>1</td>\n",
       "      <td>40.444544</td>\n",
       "      <td>-80.174540</td>\n",
       "      <td>Plush Salon and Spa</td>\n",
       "      <td>NaN</td>\n",
       "      <td>15071</td>\n",
       "      <td>4</td>\n",
       "      <td>4.0</td>\n",
       "      <td>PA</td>\n",
       "      <td>business</td>\n",
       "    </tr>\n",
       "    <tr>\n",
       "      <th>4</th>\n",
       "      <td>321 Jarvis Street</td>\n",
       "      <td>['BusinessAcceptsCreditCards: True', 'Restaura...</td>\n",
       "      <td>cdk-qqJ71q6P7TJTww_DSA</td>\n",
       "      <td>['Hotels &amp; Travel', 'Event Planning &amp; Services...</td>\n",
       "      <td>Toronto</td>\n",
       "      <td>NaN</td>\n",
       "      <td>1</td>\n",
       "      <td>43.659829</td>\n",
       "      <td>-79.375401</td>\n",
       "      <td>Comfort Inn</td>\n",
       "      <td>Downtown Core</td>\n",
       "      <td>M5B 2C2</td>\n",
       "      <td>8</td>\n",
       "      <td>3.0</td>\n",
       "      <td>ON</td>\n",
       "      <td>business</td>\n",
       "    </tr>\n",
       "  </tbody>\n",
       "</table>\n",
       "</div>"
      ],
      "text/plain": [
       "                     address  \\\n",
       "0  227 E Baseline Rd, Ste J2   \n",
       "1   495 S Grand Central Pkwy   \n",
       "2         979 Bloor Street W   \n",
       "3     7014 Steubenville Pike   \n",
       "4          321 Jarvis Street   \n",
       "\n",
       "                                          attributes             business_id  \\\n",
       "0  ['BikeParking: True', 'BusinessAcceptsBitcoin:...  0DI8Dt2PJp07XkVvIElIcQ   \n",
       "1  ['BusinessAcceptsBitcoin: False', 'BusinessAcc...  LTlCaCGZE14GuaUXUGbamg   \n",
       "2  ['Alcohol: none', \"Ambience: {'romantic': Fals...  EDqCEAGXVGCH4FJXgqtjqg   \n",
       "3  ['AcceptsInsurance: False', 'BusinessAcceptsCr...  cnGIivYRLxpF7tBVR_JwWA   \n",
       "4  ['BusinessAcceptsCreditCards: True', 'Restaura...  cdk-qqJ71q6P7TJTww_DSA   \n",
       "\n",
       "                                          categories       city  \\\n",
       "0  ['Tobacco Shops', 'Nightlife', 'Vape Shops', '...      Tempe   \n",
       "1  ['Caterers', 'Grocery', 'Food', 'Event Plannin...  Las Vegas   \n",
       "2  ['Restaurants', 'Pizza', 'Chicken Wings', 'Ita...    Toronto   \n",
       "3  ['Hair Removal', 'Beauty & Spas', 'Blow Dry/Ou...    Oakdale   \n",
       "4  ['Hotels & Travel', 'Event Planning & Services...    Toronto   \n",
       "\n",
       "                                               hours  is_open   latitude  \\\n",
       "0  ['Monday 11:0-21:0', 'Tuesday 11:0-21:0', 'Wed...        0  33.378214   \n",
       "1  ['Monday 0:0-0:0', 'Tuesday 0:0-0:0', 'Wednesd...        1  36.192284   \n",
       "2  ['Monday 11:0-2:0', 'Tuesday 11:0-2:0', 'Wedne...        1  43.661054   \n",
       "3  ['Tuesday 10:0-21:0', 'Wednesday 10:0-21:0', '...        1  40.444544   \n",
       "4                                                NaN        1  43.659829   \n",
       "\n",
       "    longitude                 name    neighborhood postal_code  review_count  \\\n",
       "0 -111.936102    Innovative Vapors             NaN       85283            17   \n",
       "1 -115.159272        Cut and Taste             NaN       89106             9   \n",
       "2  -79.429089          Pizza Pizza  Dufferin Grove     M6H 1L5             7   \n",
       "3  -80.174540  Plush Salon and Spa             NaN       15071             4   \n",
       "4  -79.375401          Comfort Inn   Downtown Core     M5B 2C2             8   \n",
       "\n",
       "   stars state      type  \n",
       "0    4.5    AZ  business  \n",
       "1    5.0    NV  business  \n",
       "2    2.5    ON  business  \n",
       "3    4.0    PA  business  \n",
       "4    3.0    ON  business  "
      ]
     },
     "execution_count": 2,
     "metadata": {},
     "output_type": "execute_result"
    }
   ],
   "source": [
    "businesses = DataFrame.from_csv('yelp_academic_dataset_business.csv')\n",
    "businesses.head()"
   ]
  },
  {
   "cell_type": "code",
   "execution_count": 18,
   "metadata": {},
   "outputs": [],
   "source": [
    "cafes = businesses[(businesses.categories.str.lower().str.find('cafe') > 0) | (businesses.categories.str.lower().str.find('coffee') > 0) ]"
   ]
  },
  {
   "cell_type": "code",
   "execution_count": 21,
   "metadata": {},
   "outputs": [
    {
     "data": {
      "text/plain": [
       "258672"
      ]
     },
     "execution_count": 21,
     "metadata": {},
     "output_type": "execute_result"
    }
   ],
   "source": [
    "reviews = DataFrame.from_csv('yelp_academic_dataset_review.csv')\n",
    "reviews = reviews[reviews['business_id'].isin(cafes['business_id'])]\n",
    "len(reviews)"
   ]
  },
  {
   "cell_type": "code",
   "execution_count": 22,
   "metadata": {
    "collapsed": true
   },
   "outputs": [],
   "source": [
    "cafes.to_csv('yelp_cafes.csv')\n",
    "reviews.to_csv('yelp_cafe_reviews.csv')"
   ]
  },
  {
   "cell_type": "code",
   "execution_count": null,
   "metadata": {
    "collapsed": true
   },
   "outputs": [],
   "source": []
  }
 ],
 "metadata": {
  "kernelspec": {
   "display_name": "Python 3",
   "language": "python",
   "name": "python3"
  },
  "language_info": {
   "codemirror_mode": {
    "name": "ipython",
    "version": 3
   },
   "file_extension": ".py",
   "mimetype": "text/x-python",
   "name": "python",
   "nbconvert_exporter": "python",
   "pygments_lexer": "ipython3",
   "version": "3.6.1"
  }
 },
 "nbformat": 4,
 "nbformat_minor": 2
}
