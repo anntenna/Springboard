{
 "cells": [
  {
   "cell_type": "markdown",
   "metadata": {},
   "source": [
    "# An analysis of cafes on Yelp\n",
    "This is a quick clean-up and analysis of a subset of businesses on Yelp that include the categories \"Cafes\" and \"Coffee & Tea\". I have sampled the data and saved them into CSV files in a previous notebook.\n",
    "\n",
    "The `attributes` column holds a lot of details on each business, and needs to be unpacked into separate columns for ease of use. Since we're focusing on cafes, a few select attributes that pertain to cafes and coffee shops will need to be picked. The `stars` column is used to gauge favorability of a business, i.e., the higher the star rating, the better.\n"
   ]
  },
  {
   "cell_type": "code",
   "execution_count": 1,
   "metadata": {
    "collapsed": true
   },
   "outputs": [],
   "source": [
    "import pandas as pd\n",
    "import matplotlib\n",
    "from pandas import Series, DataFrame\n",
    "import seaborn as sns"
   ]
  },
  {
   "cell_type": "code",
   "execution_count": 2,
   "metadata": {},
   "outputs": [],
   "source": [
    "#seaborn settings\n",
    "sns.set_palette('deep',desat=0.6)\n",
    "sns.set_context(rc={'figure.figsize':(8,4)})"
   ]
  },
  {
   "cell_type": "code",
   "execution_count": 3,
   "metadata": {
    "collapsed": true
   },
   "outputs": [],
   "source": [
    "cafes = DataFrame.from_csv('yelp_cafes.csv')\n",
    "reviews = DataFrame.from_csv('yelp_cafe_reviews.csv')"
   ]
  },
  {
   "cell_type": "markdown",
   "metadata": {},
   "source": [
    "### Ratings on Yelp for cafes\n",
    "A quick histogram shows a positively skewed normal distribution of star ratings for cafes."
   ]
  },
  {
   "cell_type": "code",
   "execution_count": 4,
   "metadata": {},
   "outputs": [
    {
     "data": {
      "image/png": "[encoded data removed]",
      "text/plain": [
       "<matplotlib.figure.Figure at 0x1177fbbe0>"
      ]
     },
     "metadata": {},
     "output_type": "display_data"
    }
   ],
   "source": [
    "%matplotlib inline\n",
    "cafes.stars.plot(kind='hist', bins=10)\n",
    "pass"
   ]
  },
  {
   "cell_type": "markdown",
   "metadata": {},
   "source": [
    "The `attributes` column has around 40 attributes, still sitting in JSON format, that need to be read into their own individual columns. "
   ]
  },
  {
   "cell_type": "code",
   "execution_count": 5,
   "metadata": {},
   "outputs": [],
   "source": [
    "cafes = cafes.set_index('business_id')"
   ]
  },
  {
   "cell_type": "code",
   "execution_count": 6,
   "metadata": {},
   "outputs": [
    {
     "data": {
      "text/plain": [
       "'[\\'BusinessAcceptsCreditCards: True\\', \\'GoodForKids: True\\', \"GoodForMeal: {\\'dessert\\': False, \\'latenight\\': False, \\'lunch\\': False, \\'dinner\\': False, \\'breakfast\\': False, \\'brunch\\': False}\", \\'RestaurantsAttire: casual\\', \\'RestaurantsDelivery: False\\', \\'RestaurantsGoodForGroups: True\\', \\'RestaurantsReservations: True\\', \\'RestaurantsTakeOut: False\\']'"
      ]
     },
     "execution_count": 6,
     "metadata": {},
     "output_type": "execute_result"
    }
   ],
   "source": [
    "cafes.attributes[0]"
   ]
  },
  {
   "cell_type": "code",
   "execution_count": 7,
   "metadata": {
    "scrolled": true
   },
   "outputs": [
    {
     "data": {
      "text/html": [
       "<div>\n",
       "<style>\n",
       "    .dataframe thead tr:only-child th {\n",
       "        text-align: right;\n",
       "    }\n",
       "\n",
       "    .dataframe thead th {\n",
       "        text-align: left;\n",
       "    }\n",
       "\n",
       "    .dataframe tbody tr th {\n",
       "        vertical-align: top;\n",
       "    }\n",
       "</style>\n",
       "<table border=\"1\" class=\"dataframe\">\n",
       "  <thead>\n",
       "    <tr style=\"text-align: right;\">\n",
       "      <th></th>\n",
       "      <th>attributes</th>\n",
       "    </tr>\n",
       "    <tr>\n",
       "      <th>business_id</th>\n",
       "      <th></th>\n",
       "    </tr>\n",
       "  </thead>\n",
       "  <tbody>\n",
       "    <tr>\n",
       "      <th>DNyYOxVAfu0oUcPNL1ljCQ</th>\n",
       "      <td>{\"BusinessAcceptsCreditCards\": \"True\", \"GoodFo...</td>\n",
       "    </tr>\n",
       "    <tr>\n",
       "      <th>XxjrqA5jrzLH0EdCKUG9Mw</th>\n",
       "      <td>{\"BusinessAcceptsCreditCards\": \"False\", \"Busin...</td>\n",
       "    </tr>\n",
       "    <tr>\n",
       "      <th>p4VrKw8CufwzBbvJkuLksQ</th>\n",
       "      <td>{\"BusinessParking\": {\"garage\": \"False\", \"stree...</td>\n",
       "    </tr>\n",
       "    <tr>\n",
       "      <th>hSep-C-1JSC8c_8tR96etQ</th>\n",
       "      <td>{\"BikeParking\": \"True\", \"BusinessAcceptsCredit...</td>\n",
       "    </tr>\n",
       "    <tr>\n",
       "      <th>pmJqSsCfgbo3TxPWpQNLIw</th>\n",
       "      <td>{\"Ambience\": {\"romantic\": \"False\", \"intimate\":...</td>\n",
       "    </tr>\n",
       "  </tbody>\n",
       "</table>\n",
       "</div>"
      ],
      "text/plain": [
       "                                                               attributes\n",
       "business_id                                                              \n",
       "DNyYOxVAfu0oUcPNL1ljCQ  {\"BusinessAcceptsCreditCards\": \"True\", \"GoodFo...\n",
       "XxjrqA5jrzLH0EdCKUG9Mw  {\"BusinessAcceptsCreditCards\": \"False\", \"Busin...\n",
       "p4VrKw8CufwzBbvJkuLksQ  {\"BusinessParking\": {\"garage\": \"False\", \"stree...\n",
       "hSep-C-1JSC8c_8tR96etQ  {\"BikeParking\": \"True\", \"BusinessAcceptsCredit...\n",
       "pmJqSsCfgbo3TxPWpQNLIw  {\"Ambience\": {\"romantic\": \"False\", \"intimate\":..."
      ]
     },
     "execution_count": 7,
     "metadata": {},
     "output_type": "execute_result"
    }
   ],
   "source": [
    "import re\n",
    "cafe_attributes = cafes.attributes\n",
    "\n",
    "#Replace the inner single quotes with doubple quotes, replace [] with {}, remove hyphens and other non-alphanumeric characters.\n",
    "cafe_attributes = cafe_attributes.str.translate({ord(c): None for c in r'\\'\"-_'}).str.replace('[','{').str.replace(']','}')\n",
    "cafe_attributes = DataFrame(cafe_attributes.apply(lambda x:re.sub(r'(\\w+)',r'\"\\1\"',str(x))))\n",
    "cafe_attributes.head()"
   ]
  },
  {
   "cell_type": "code",
   "execution_count": 8,
   "metadata": {},
   "outputs": [
    {
     "name": "stderr",
     "output_type": "stream",
     "text": [
      "/Library/Frameworks/Python.framework/Versions/3.6/lib/python3.6/site-packages/pandas/core/indexes/api.py:43: RuntimeWarning: '>' not supported between instances of 'int' and 'str', sort order is undefined for incomparable objects\n",
      "  union = _union_indexes(indexes)\n",
      "/Library/Frameworks/Python.framework/Versions/3.6/lib/python3.6/site-packages/pandas/core/indexes/api.py:43: RuntimeWarning: '>' not supported between instances of 'str' and 'int', sort order is undefined for incomparable objects\n",
      "  union = _union_indexes(indexes)\n",
      "/Library/Frameworks/Python.framework/Versions/3.6/lib/python3.6/site-packages/pandas/core/indexes/api.py:77: RuntimeWarning: '>' not supported between instances of 'int' and 'str', sort order is undefined for incomparable objects\n",
      "  result = result.union(other)\n"
     ]
    },
    {
     "data": {
      "text/html": [
       "<div>\n",
       "<style>\n",
       "    .dataframe thead tr:only-child th {\n",
       "        text-align: right;\n",
       "    }\n",
       "\n",
       "    .dataframe thead th {\n",
       "        text-align: left;\n",
       "    }\n",
       "\n",
       "    .dataframe tbody tr th {\n",
       "        vertical-align: top;\n",
       "    }\n",
       "</style>\n",
       "<table border=\"1\" class=\"dataframe\">\n",
       "  <thead>\n",
       "    <tr style=\"text-align: right;\">\n",
       "      <th></th>\n",
       "      <th>Alcohol</th>\n",
       "      <th>Ambience</th>\n",
       "      <th>BikeParking</th>\n",
       "      <th>BusinessAcceptsBitcoin</th>\n",
       "      <th>BusinessAcceptsCreditCards</th>\n",
       "      <th>BusinessParking</th>\n",
       "      <th>Caters</th>\n",
       "      <th>CoatCheck</th>\n",
       "      <th>DietaryRestrictions</th>\n",
       "      <th>DogsAllowed</th>\n",
       "      <th>...</th>\n",
       "      <th>BYOB</th>\n",
       "      <th>BYOBCorkage</th>\n",
       "      <th>ByAppointmentOnly</th>\n",
       "      <th>BestNights</th>\n",
       "      <th>AgesAllowed</th>\n",
       "      <th>Open24Hours</th>\n",
       "      <th>Corkage</th>\n",
       "      <th>HairSpecializesIn</th>\n",
       "      <th>AcceptsInsurance</th>\n",
       "      <th>RestaurantsCounterService</th>\n",
       "    </tr>\n",
       "    <tr>\n",
       "      <th>business_id</th>\n",
       "      <th></th>\n",
       "      <th></th>\n",
       "      <th></th>\n",
       "      <th></th>\n",
       "      <th></th>\n",
       "      <th></th>\n",
       "      <th></th>\n",
       "      <th></th>\n",
       "      <th></th>\n",
       "      <th></th>\n",
       "      <th></th>\n",
       "      <th></th>\n",
       "      <th></th>\n",
       "      <th></th>\n",
       "      <th></th>\n",
       "      <th></th>\n",
       "      <th></th>\n",
       "      <th></th>\n",
       "      <th></th>\n",
       "      <th></th>\n",
       "      <th></th>\n",
       "    </tr>\n",
       "  </thead>\n",
       "  <tbody>\n",
       "    <tr>\n",
       "      <th>DNyYOxVAfu0oUcPNL1ljCQ</th>\n",
       "      <td>NaN</td>\n",
       "      <td>NaN</td>\n",
       "      <td>NaN</td>\n",
       "      <td>NaN</td>\n",
       "      <td>True</td>\n",
       "      <td>NaN</td>\n",
       "      <td>NaN</td>\n",
       "      <td>NaN</td>\n",
       "      <td>NaN</td>\n",
       "      <td>NaN</td>\n",
       "      <td>...</td>\n",
       "      <td>NaN</td>\n",
       "      <td>NaN</td>\n",
       "      <td>NaN</td>\n",
       "      <td>NaN</td>\n",
       "      <td>NaN</td>\n",
       "      <td>NaN</td>\n",
       "      <td>NaN</td>\n",
       "      <td>NaN</td>\n",
       "      <td>NaN</td>\n",
       "      <td>NaN</td>\n",
       "    </tr>\n",
       "    <tr>\n",
       "      <th>XxjrqA5jrzLH0EdCKUG9Mw</th>\n",
       "      <td>NaN</td>\n",
       "      <td>NaN</td>\n",
       "      <td>NaN</td>\n",
       "      <td>NaN</td>\n",
       "      <td>False</td>\n",
       "      <td>{'garage': 'False', 'street': 'True', 'validat...</td>\n",
       "      <td>NaN</td>\n",
       "      <td>NaN</td>\n",
       "      <td>NaN</td>\n",
       "      <td>NaN</td>\n",
       "      <td>...</td>\n",
       "      <td>NaN</td>\n",
       "      <td>NaN</td>\n",
       "      <td>NaN</td>\n",
       "      <td>NaN</td>\n",
       "      <td>NaN</td>\n",
       "      <td>NaN</td>\n",
       "      <td>NaN</td>\n",
       "      <td>NaN</td>\n",
       "      <td>NaN</td>\n",
       "      <td>NaN</td>\n",
       "    </tr>\n",
       "    <tr>\n",
       "      <th>p4VrKw8CufwzBbvJkuLksQ</th>\n",
       "      <td>NaN</td>\n",
       "      <td>NaN</td>\n",
       "      <td>NaN</td>\n",
       "      <td>NaN</td>\n",
       "      <td>NaN</td>\n",
       "      <td>{'garage': 'False', 'street': 'False', 'valida...</td>\n",
       "      <td>NaN</td>\n",
       "      <td>NaN</td>\n",
       "      <td>NaN</td>\n",
       "      <td>NaN</td>\n",
       "      <td>...</td>\n",
       "      <td>NaN</td>\n",
       "      <td>NaN</td>\n",
       "      <td>NaN</td>\n",
       "      <td>NaN</td>\n",
       "      <td>NaN</td>\n",
       "      <td>NaN</td>\n",
       "      <td>NaN</td>\n",
       "      <td>NaN</td>\n",
       "      <td>NaN</td>\n",
       "      <td>NaN</td>\n",
       "    </tr>\n",
       "    <tr>\n",
       "      <th>hSep-C-1JSC8c_8tR96etQ</th>\n",
       "      <td>NaN</td>\n",
       "      <td>NaN</td>\n",
       "      <td>True</td>\n",
       "      <td>NaN</td>\n",
       "      <td>True</td>\n",
       "      <td>NaN</td>\n",
       "      <td>NaN</td>\n",
       "      <td>NaN</td>\n",
       "      <td>NaN</td>\n",
       "      <td>NaN</td>\n",
       "      <td>...</td>\n",
       "      <td>NaN</td>\n",
       "      <td>NaN</td>\n",
       "      <td>NaN</td>\n",
       "      <td>NaN</td>\n",
       "      <td>NaN</td>\n",
       "      <td>NaN</td>\n",
       "      <td>NaN</td>\n",
       "      <td>NaN</td>\n",
       "      <td>NaN</td>\n",
       "      <td>NaN</td>\n",
       "    </tr>\n",
       "    <tr>\n",
       "      <th>pmJqSsCfgbo3TxPWpQNLIw</th>\n",
       "      <td>NaN</td>\n",
       "      <td>{'romantic': 'False', 'intimate': 'False', 'cl...</td>\n",
       "      <td>False</td>\n",
       "      <td>NaN</td>\n",
       "      <td>True</td>\n",
       "      <td>{'garage': 'False', 'street': 'False', 'valida...</td>\n",
       "      <td>False</td>\n",
       "      <td>NaN</td>\n",
       "      <td>NaN</td>\n",
       "      <td>NaN</td>\n",
       "      <td>...</td>\n",
       "      <td>NaN</td>\n",
       "      <td>NaN</td>\n",
       "      <td>NaN</td>\n",
       "      <td>NaN</td>\n",
       "      <td>NaN</td>\n",
       "      <td>NaN</td>\n",
       "      <td>NaN</td>\n",
       "      <td>NaN</td>\n",
       "      <td>NaN</td>\n",
       "      <td>NaN</td>\n",
       "    </tr>\n",
       "  </tbody>\n",
       "</table>\n",
       "<p>5 rows × 40 columns</p>\n",
       "</div>"
      ],
      "text/plain": [
       "                       Alcohol  \\\n",
       "business_id                      \n",
       "DNyYOxVAfu0oUcPNL1ljCQ     NaN   \n",
       "XxjrqA5jrzLH0EdCKUG9Mw     NaN   \n",
       "p4VrKw8CufwzBbvJkuLksQ     NaN   \n",
       "hSep-C-1JSC8c_8tR96etQ     NaN   \n",
       "pmJqSsCfgbo3TxPWpQNLIw     NaN   \n",
       "\n",
       "                                                                 Ambience  \\\n",
       "business_id                                                                 \n",
       "DNyYOxVAfu0oUcPNL1ljCQ                                                NaN   \n",
       "XxjrqA5jrzLH0EdCKUG9Mw                                                NaN   \n",
       "p4VrKw8CufwzBbvJkuLksQ                                                NaN   \n",
       "hSep-C-1JSC8c_8tR96etQ                                                NaN   \n",
       "pmJqSsCfgbo3TxPWpQNLIw  {'romantic': 'False', 'intimate': 'False', 'cl...   \n",
       "\n",
       "                       BikeParking BusinessAcceptsBitcoin  \\\n",
       "business_id                                                 \n",
       "DNyYOxVAfu0oUcPNL1ljCQ         NaN                    NaN   \n",
       "XxjrqA5jrzLH0EdCKUG9Mw         NaN                    NaN   \n",
       "p4VrKw8CufwzBbvJkuLksQ         NaN                    NaN   \n",
       "hSep-C-1JSC8c_8tR96etQ        True                    NaN   \n",
       "pmJqSsCfgbo3TxPWpQNLIw       False                    NaN   \n",
       "\n",
       "                       BusinessAcceptsCreditCards  \\\n",
       "business_id                                         \n",
       "DNyYOxVAfu0oUcPNL1ljCQ                       True   \n",
       "XxjrqA5jrzLH0EdCKUG9Mw                      False   \n",
       "p4VrKw8CufwzBbvJkuLksQ                        NaN   \n",
       "hSep-C-1JSC8c_8tR96etQ                       True   \n",
       "pmJqSsCfgbo3TxPWpQNLIw                       True   \n",
       "\n",
       "                                                          BusinessParking  \\\n",
       "business_id                                                                 \n",
       "DNyYOxVAfu0oUcPNL1ljCQ                                                NaN   \n",
       "XxjrqA5jrzLH0EdCKUG9Mw  {'garage': 'False', 'street': 'True', 'validat...   \n",
       "p4VrKw8CufwzBbvJkuLksQ  {'garage': 'False', 'street': 'False', 'valida...   \n",
       "hSep-C-1JSC8c_8tR96etQ                                                NaN   \n",
       "pmJqSsCfgbo3TxPWpQNLIw  {'garage': 'False', 'street': 'False', 'valida...   \n",
       "\n",
       "                       Caters CoatCheck DietaryRestrictions DogsAllowed  \\\n",
       "business_id                                                               \n",
       "DNyYOxVAfu0oUcPNL1ljCQ    NaN       NaN                 NaN         NaN   \n",
       "XxjrqA5jrzLH0EdCKUG9Mw    NaN       NaN                 NaN         NaN   \n",
       "p4VrKw8CufwzBbvJkuLksQ    NaN       NaN                 NaN         NaN   \n",
       "hSep-C-1JSC8c_8tR96etQ    NaN       NaN                 NaN         NaN   \n",
       "pmJqSsCfgbo3TxPWpQNLIw  False       NaN                 NaN         NaN   \n",
       "\n",
       "                                  ...            BYOB BYOBCorkage  \\\n",
       "business_id                       ...                               \n",
       "DNyYOxVAfu0oUcPNL1ljCQ            ...             NaN         NaN   \n",
       "XxjrqA5jrzLH0EdCKUG9Mw            ...             NaN         NaN   \n",
       "p4VrKw8CufwzBbvJkuLksQ            ...             NaN         NaN   \n",
       "hSep-C-1JSC8c_8tR96etQ            ...             NaN         NaN   \n",
       "pmJqSsCfgbo3TxPWpQNLIw            ...             NaN         NaN   \n",
       "\n",
       "                       ByAppointmentOnly BestNights AgesAllowed Open24Hours  \\\n",
       "business_id                                                                   \n",
       "DNyYOxVAfu0oUcPNL1ljCQ               NaN        NaN         NaN         NaN   \n",
       "XxjrqA5jrzLH0EdCKUG9Mw               NaN        NaN         NaN         NaN   \n",
       "p4VrKw8CufwzBbvJkuLksQ               NaN        NaN         NaN         NaN   \n",
       "hSep-C-1JSC8c_8tR96etQ               NaN        NaN         NaN         NaN   \n",
       "pmJqSsCfgbo3TxPWpQNLIw               NaN        NaN         NaN         NaN   \n",
       "\n",
       "                       Corkage HairSpecializesIn AcceptsInsurance  \\\n",
       "business_id                                                         \n",
       "DNyYOxVAfu0oUcPNL1ljCQ     NaN               NaN              NaN   \n",
       "XxjrqA5jrzLH0EdCKUG9Mw     NaN               NaN              NaN   \n",
       "p4VrKw8CufwzBbvJkuLksQ     NaN               NaN              NaN   \n",
       "hSep-C-1JSC8c_8tR96etQ     NaN               NaN              NaN   \n",
       "pmJqSsCfgbo3TxPWpQNLIw     NaN               NaN              NaN   \n",
       "\n",
       "                       RestaurantsCounterService  \n",
       "business_id                                       \n",
       "DNyYOxVAfu0oUcPNL1ljCQ                       NaN  \n",
       "XxjrqA5jrzLH0EdCKUG9Mw                       NaN  \n",
       "p4VrKw8CufwzBbvJkuLksQ                       NaN  \n",
       "hSep-C-1JSC8c_8tR96etQ                       NaN  \n",
       "pmJqSsCfgbo3TxPWpQNLIw                       NaN  \n",
       "\n",
       "[5 rows x 40 columns]"
      ]
     },
     "execution_count": 8,
     "metadata": {},
     "output_type": "execute_result"
    }
   ],
   "source": [
    "import json\n",
    "\n",
    "#Convert string in attributes column to dict using json load.\n",
    "cafe_attributes.attributes = cafe_attributes.attributes.apply(lambda x: json.loads(x))\n",
    "\n",
    "#Convert column of dicts to columns in the dataframe\n",
    "cafe_attributes = pd.concat([cafe_attributes['attributes'].apply(Series)], axis=1)\n",
    "\n",
    "cafe_attributes.head()"
   ]
  },
  {
   "cell_type": "markdown",
   "metadata": {},
   "source": [
    "The warnings generated in the above cell are due to `.apply(Series)` which creates a column '0'. Once the tables are joined, I can safely get rid of this column."
   ]
  },
  {
   "cell_type": "code",
   "execution_count": 9,
   "metadata": {},
   "outputs": [
    {
     "data": {
      "text/plain": [
       "Index([                   'Alcohol',                   'Ambience',\n",
       "                      'BikeParking',     'BusinessAcceptsBitcoin',\n",
       "       'BusinessAcceptsCreditCards',            'BusinessParking',\n",
       "                           'Caters',                  'CoatCheck',\n",
       "              'DietaryRestrictions',                'DogsAllowed',\n",
       "                        'DriveThru',             'GoodForDancing',\n",
       "                      'GoodForKids',                'GoodForMeal',\n",
       "                        'HappyHour',                      'HasTV',\n",
       "                            'Music',                 'NoiseLevel',\n",
       "                   'OutdoorSeating',          'RestaurantsAttire',\n",
       "              'RestaurantsDelivery',   'RestaurantsGoodForGroups',\n",
       "           'RestaurantsPriceRange2',    'RestaurantsReservations',\n",
       "          'RestaurantsTableService',         'RestaurantsTakeOut',\n",
       "                          'Smoking',       'WheelchairAccessible',\n",
       "                             'WiFi',                            0,\n",
       "                             'BYOB',                'BYOBCorkage',\n",
       "                'ByAppointmentOnly',                 'BestNights',\n",
       "                      'AgesAllowed',                'Open24Hours',\n",
       "                          'Corkage',          'HairSpecializesIn',\n",
       "                 'AcceptsInsurance',  'RestaurantsCounterService'],\n",
       "      dtype='object')"
      ]
     },
     "execution_count": 9,
     "metadata": {},
     "output_type": "execute_result"
    }
   ],
   "source": [
    "# cafe_attributes.columns = cafe_attributes.columns.astype('str')\n",
    "# cafe_attributes.drop(['0'],axis=1, inplace=True)\n",
    "cafe_attributes.columns\n"
   ]
  },
  {
   "cell_type": "code",
   "execution_count": 10,
   "metadata": {},
   "outputs": [],
   "source": [
    "cafes = cafes.join(cafe_attributes)\n"
   ]
  },
  {
   "cell_type": "code",
   "execution_count": 11,
   "metadata": {},
   "outputs": [
    {
     "data": {
      "text/plain": [
       "Index([                   'address',                 'attributes',\n",
       "                       'categories',                       'city',\n",
       "                            'hours',                    'is_open',\n",
       "                         'latitude',                  'longitude',\n",
       "                             'name',               'neighborhood',\n",
       "                      'postal_code',               'review_count',\n",
       "                            'stars',                      'state',\n",
       "                             'type',                    'Alcohol',\n",
       "                         'Ambience',                'BikeParking',\n",
       "           'BusinessAcceptsBitcoin', 'BusinessAcceptsCreditCards',\n",
       "                  'BusinessParking',                     'Caters',\n",
       "                        'CoatCheck',        'DietaryRestrictions',\n",
       "                      'DogsAllowed',                  'DriveThru',\n",
       "                   'GoodForDancing',                'GoodForKids',\n",
       "                      'GoodForMeal',                  'HappyHour',\n",
       "                            'HasTV',                      'Music',\n",
       "                       'NoiseLevel',             'OutdoorSeating',\n",
       "                'RestaurantsAttire',        'RestaurantsDelivery',\n",
       "         'RestaurantsGoodForGroups',     'RestaurantsPriceRange2',\n",
       "          'RestaurantsReservations',    'RestaurantsTableService',\n",
       "               'RestaurantsTakeOut',                    'Smoking',\n",
       "             'WheelchairAccessible',                       'WiFi',\n",
       "                                  0,                       'BYOB',\n",
       "                      'BYOBCorkage',          'ByAppointmentOnly',\n",
       "                       'BestNights',                'AgesAllowed',\n",
       "                      'Open24Hours',                    'Corkage',\n",
       "                'HairSpecializesIn',           'AcceptsInsurance',\n",
       "        'RestaurantsCounterService'],\n",
       "      dtype='object')"
      ]
     },
     "execution_count": 11,
     "metadata": {},
     "output_type": "execute_result"
    }
   ],
   "source": [
    "cafes.columns"
   ]
  },
  {
   "cell_type": "markdown",
   "metadata": {},
   "source": [
    "There are some columns that are still `dict`s and will need to be unpacked, like `BusinessParking`, `Music` and `Ambience`"
   ]
  },
  {
   "cell_type": "markdown",
   "metadata": {},
   "source": [
    "## Choosing the right attributes for cafes\n",
    "A possible list of attributes for cafes from the above could include:\n",
    "1. WiFi\n",
    "2. NoiseLevel\n",
    "3. DogsAllowed\n",
    "4. DriveThru\n",
    "5. Alcohol\n",
    "\n",
    "Let's look at the distribution of stars by each of these attributes"
   ]
  },
  {
   "cell_type": "code",
   "execution_count": 12,
   "metadata": {},
   "outputs": [
    {
     "data": {
      "image/png": "[encoded data removed]",
      "text/plain": [
       "<matplotlib.figure.Figure at 0x109875b38>"
      ]
     },
     "metadata": {},
     "output_type": "display_data"
    }
   ],
   "source": [
    "cafes.stars.hist(by=cafes.WiFi)\n",
    "pass"
   ]
  },
  {
   "cell_type": "code",
   "execution_count": 13,
   "metadata": {},
   "outputs": [
    {
     "data": {
      "image/png": "[encoded data removed]",
      "text/plain": [
       "<matplotlib.figure.Figure at 0x10f672f60>"
      ]
     },
     "metadata": {},
     "output_type": "display_data"
    }
   ],
   "source": [
    "cafes.stars.hist(by=cafes.NoiseLevel)\n",
    "pass"
   ]
  },
  {
   "cell_type": "code",
   "execution_count": 14,
   "metadata": {},
   "outputs": [
    {
     "data": {
      "image/png": "[encoded data removed]",
      "text/plain": [
       "<matplotlib.figure.Figure at 0x10f8d7160>"
      ]
     },
     "metadata": {},
     "output_type": "display_data"
    }
   ],
   "source": [
    "sns.boxplot(y = cafes.stars, x = cafes.WiFi)\n",
    "pass"
   ]
  },
  {
   "cell_type": "code",
   "execution_count": 15,
   "metadata": {},
   "outputs": [
    {
     "data": {
      "image/png": "[encoded data removed]",
      "text/plain": [
       "<matplotlib.figure.Figure at 0x10f969748>"
      ]
     },
     "metadata": {},
     "output_type": "display_data"
    }
   ],
   "source": [
    "sns.boxplot(y = cafes.stars, x = cafes.NoiseLevel)\n",
    "pass"
   ]
  },
  {
   "cell_type": "markdown",
   "metadata": {},
   "source": [
    "## Quieter = Better?\n",
    "The above boxplot shows that cafes that are quieter score a better star rating. What about cafes that play music? To find out, we'll need to look at the `Music` attribute. Since the values in this column are `dict`s, we'll need to repeat the same unpacking process as that for the `attributes` column."
   ]
  },
  {
   "cell_type": "code",
   "execution_count": 16,
   "metadata": {},
   "outputs": [
    {
     "name": "stderr",
     "output_type": "stream",
     "text": [
      "/Library/Frameworks/Python.framework/Versions/3.6/lib/python3.6/site-packages/pandas/core/indexes/api.py:77: RuntimeWarning: '>' not supported between instances of 'str' and 'int', sort order is undefined for incomparable objects\n",
      "  result = result.union(other)\n",
      "/Library/Frameworks/Python.framework/Versions/3.6/lib/python3.6/site-packages/pandas/core/indexes/api.py:43: RuntimeWarning: '>' not supported between instances of 'str' and 'int', sort order is undefined for incomparable objects\n",
      "  union = _union_indexes(indexes)\n"
     ]
    },
    {
     "data": {
      "text/html": [
       "<div>\n",
       "<style>\n",
       "    .dataframe thead tr:only-child th {\n",
       "        text-align: right;\n",
       "    }\n",
       "\n",
       "    .dataframe thead th {\n",
       "        text-align: left;\n",
       "    }\n",
       "\n",
       "    .dataframe tbody tr th {\n",
       "        vertical-align: top;\n",
       "    }\n",
       "</style>\n",
       "<table border=\"1\" class=\"dataframe\">\n",
       "  <thead>\n",
       "    <tr style=\"text-align: right;\">\n",
       "      <th></th>\n",
       "      <th>0</th>\n",
       "      <th>backgroundmusic</th>\n",
       "      <th>dj</th>\n",
       "      <th>jukebox</th>\n",
       "      <th>karaoke</th>\n",
       "      <th>live</th>\n",
       "      <th>nomusic</th>\n",
       "      <th>video</th>\n",
       "    </tr>\n",
       "    <tr>\n",
       "      <th>business_id</th>\n",
       "      <th></th>\n",
       "      <th></th>\n",
       "      <th></th>\n",
       "      <th></th>\n",
       "      <th></th>\n",
       "      <th></th>\n",
       "      <th></th>\n",
       "      <th></th>\n",
       "    </tr>\n",
       "  </thead>\n",
       "  <tbody>\n",
       "    <tr>\n",
       "      <th>DNyYOxVAfu0oUcPNL1ljCQ</th>\n",
       "      <td>NaN</td>\n",
       "      <td>NaN</td>\n",
       "      <td>NaN</td>\n",
       "      <td>NaN</td>\n",
       "      <td>NaN</td>\n",
       "      <td>NaN</td>\n",
       "      <td>NaN</td>\n",
       "      <td>NaN</td>\n",
       "    </tr>\n",
       "    <tr>\n",
       "      <th>XxjrqA5jrzLH0EdCKUG9Mw</th>\n",
       "      <td>NaN</td>\n",
       "      <td>NaN</td>\n",
       "      <td>NaN</td>\n",
       "      <td>NaN</td>\n",
       "      <td>NaN</td>\n",
       "      <td>NaN</td>\n",
       "      <td>NaN</td>\n",
       "      <td>NaN</td>\n",
       "    </tr>\n",
       "    <tr>\n",
       "      <th>p4VrKw8CufwzBbvJkuLksQ</th>\n",
       "      <td>NaN</td>\n",
       "      <td>NaN</td>\n",
       "      <td>NaN</td>\n",
       "      <td>NaN</td>\n",
       "      <td>NaN</td>\n",
       "      <td>NaN</td>\n",
       "      <td>NaN</td>\n",
       "      <td>NaN</td>\n",
       "    </tr>\n",
       "    <tr>\n",
       "      <th>hSep-C-1JSC8c_8tR96etQ</th>\n",
       "      <td>NaN</td>\n",
       "      <td>NaN</td>\n",
       "      <td>NaN</td>\n",
       "      <td>NaN</td>\n",
       "      <td>NaN</td>\n",
       "      <td>NaN</td>\n",
       "      <td>NaN</td>\n",
       "      <td>NaN</td>\n",
       "    </tr>\n",
       "    <tr>\n",
       "      <th>pmJqSsCfgbo3TxPWpQNLIw</th>\n",
       "      <td>NaN</td>\n",
       "      <td>NaN</td>\n",
       "      <td>NaN</td>\n",
       "      <td>NaN</td>\n",
       "      <td>NaN</td>\n",
       "      <td>NaN</td>\n",
       "      <td>NaN</td>\n",
       "      <td>NaN</td>\n",
       "    </tr>\n",
       "  </tbody>\n",
       "</table>\n",
       "</div>"
      ],
      "text/plain": [
       "                         0 backgroundmusic   dj jukebox karaoke live nomusic  \\\n",
       "business_id                                                                    \n",
       "DNyYOxVAfu0oUcPNL1ljCQ NaN             NaN  NaN     NaN     NaN  NaN     NaN   \n",
       "XxjrqA5jrzLH0EdCKUG9Mw NaN             NaN  NaN     NaN     NaN  NaN     NaN   \n",
       "p4VrKw8CufwzBbvJkuLksQ NaN             NaN  NaN     NaN     NaN  NaN     NaN   \n",
       "hSep-C-1JSC8c_8tR96etQ NaN             NaN  NaN     NaN     NaN  NaN     NaN   \n",
       "pmJqSsCfgbo3TxPWpQNLIw NaN             NaN  NaN     NaN     NaN  NaN     NaN   \n",
       "\n",
       "                       video  \n",
       "business_id                   \n",
       "DNyYOxVAfu0oUcPNL1ljCQ   NaN  \n",
       "XxjrqA5jrzLH0EdCKUG9Mw   NaN  \n",
       "p4VrKw8CufwzBbvJkuLksQ   NaN  \n",
       "hSep-C-1JSC8c_8tR96etQ   NaN  \n",
       "pmJqSsCfgbo3TxPWpQNLIw   NaN  "
      ]
     },
     "execution_count": 16,
     "metadata": {},
     "output_type": "execute_result"
    }
   ],
   "source": [
    "music_attributes = pd.concat([cafes['Music'].apply(Series)], axis=1)\n",
    "music_attributes.head()"
   ]
  },
  {
   "cell_type": "markdown",
   "metadata": {},
   "source": [
    "### Still trying to debug this!"
   ]
  },
  {
   "cell_type": "code",
   "execution_count": 17,
   "metadata": {},
   "outputs": [
    {
     "ename": "ValueError",
     "evalue": "columns overlap but no suffix specified: Index([0], dtype='object')",
     "output_type": "error",
     "traceback": [
      "\u001b[0;31m---------------------------------------------------------------------------\u001b[0m",
      "\u001b[0;31mValueError\u001b[0m                                Traceback (most recent call last)",
      "\u001b[0;32m<ipython-input-17-b8465f39f500>\u001b[0m in \u001b[0;36m<module>\u001b[0;34m()\u001b[0m\n\u001b[0;32m----> 1\u001b[0;31m \u001b[0mcafes\u001b[0m \u001b[0;34m=\u001b[0m \u001b[0mcafes\u001b[0m\u001b[0;34m.\u001b[0m\u001b[0mjoin\u001b[0m\u001b[0;34m(\u001b[0m\u001b[0mmusic_attributes\u001b[0m\u001b[0;34m)\u001b[0m\u001b[0;34m\u001b[0m\u001b[0m\n\u001b[0m",
      "\u001b[0;32m/Library/Frameworks/Python.framework/Versions/3.6/lib/python3.6/site-packages/pandas/core/frame.py\u001b[0m in \u001b[0;36mjoin\u001b[0;34m(self, other, on, how, lsuffix, rsuffix, sort)\u001b[0m\n\u001b[1;32m   4667\u001b[0m         \u001b[0;31m# For SparseDataFrame's benefit\u001b[0m\u001b[0;34m\u001b[0m\u001b[0;34m\u001b[0m\u001b[0m\n\u001b[1;32m   4668\u001b[0m         return self._join_compat(other, on=on, how=how, lsuffix=lsuffix,\n\u001b[0;32m-> 4669\u001b[0;31m                                  rsuffix=rsuffix, sort=sort)\n\u001b[0m\u001b[1;32m   4670\u001b[0m \u001b[0;34m\u001b[0m\u001b[0m\n\u001b[1;32m   4671\u001b[0m     def _join_compat(self, other, on=None, how='left', lsuffix='', rsuffix='',\n",
      "\u001b[0;32m/Library/Frameworks/Python.framework/Versions/3.6/lib/python3.6/site-packages/pandas/core/frame.py\u001b[0m in \u001b[0;36m_join_compat\u001b[0;34m(self, other, on, how, lsuffix, rsuffix, sort)\u001b[0m\n\u001b[1;32m   4682\u001b[0m             return merge(self, other, left_on=on, how=how,\n\u001b[1;32m   4683\u001b[0m                          \u001b[0mleft_index\u001b[0m\u001b[0;34m=\u001b[0m\u001b[0mon\u001b[0m \u001b[0;32mis\u001b[0m \u001b[0;32mNone\u001b[0m\u001b[0;34m,\u001b[0m \u001b[0mright_index\u001b[0m\u001b[0;34m=\u001b[0m\u001b[0;32mTrue\u001b[0m\u001b[0;34m,\u001b[0m\u001b[0;34m\u001b[0m\u001b[0m\n\u001b[0;32m-> 4684\u001b[0;31m                          suffixes=(lsuffix, rsuffix), sort=sort)\n\u001b[0m\u001b[1;32m   4685\u001b[0m         \u001b[0;32melse\u001b[0m\u001b[0;34m:\u001b[0m\u001b[0;34m\u001b[0m\u001b[0m\n\u001b[1;32m   4686\u001b[0m             \u001b[0;32mif\u001b[0m \u001b[0mon\u001b[0m \u001b[0;32mis\u001b[0m \u001b[0;32mnot\u001b[0m \u001b[0;32mNone\u001b[0m\u001b[0;34m:\u001b[0m\u001b[0;34m\u001b[0m\u001b[0m\n",
      "\u001b[0;32m/Library/Frameworks/Python.framework/Versions/3.6/lib/python3.6/site-packages/pandas/core/reshape/merge.py\u001b[0m in \u001b[0;36mmerge\u001b[0;34m(left, right, how, on, left_on, right_on, left_index, right_index, sort, suffixes, copy, indicator)\u001b[0m\n\u001b[1;32m     52\u001b[0m                          \u001b[0mright_index\u001b[0m\u001b[0;34m=\u001b[0m\u001b[0mright_index\u001b[0m\u001b[0;34m,\u001b[0m \u001b[0msort\u001b[0m\u001b[0;34m=\u001b[0m\u001b[0msort\u001b[0m\u001b[0;34m,\u001b[0m \u001b[0msuffixes\u001b[0m\u001b[0;34m=\u001b[0m\u001b[0msuffixes\u001b[0m\u001b[0;34m,\u001b[0m\u001b[0;34m\u001b[0m\u001b[0m\n\u001b[1;32m     53\u001b[0m                          copy=copy, indicator=indicator)\n\u001b[0;32m---> 54\u001b[0;31m     \u001b[0;32mreturn\u001b[0m \u001b[0mop\u001b[0m\u001b[0;34m.\u001b[0m\u001b[0mget_result\u001b[0m\u001b[0;34m(\u001b[0m\u001b[0;34m)\u001b[0m\u001b[0;34m\u001b[0m\u001b[0m\n\u001b[0m\u001b[1;32m     55\u001b[0m \u001b[0;34m\u001b[0m\u001b[0m\n\u001b[1;32m     56\u001b[0m \u001b[0;34m\u001b[0m\u001b[0m\n",
      "\u001b[0;32m/Library/Frameworks/Python.framework/Versions/3.6/lib/python3.6/site-packages/pandas/core/reshape/merge.py\u001b[0m in \u001b[0;36mget_result\u001b[0;34m(self)\u001b[0m\n\u001b[1;32m    573\u001b[0m \u001b[0;34m\u001b[0m\u001b[0m\n\u001b[1;32m    574\u001b[0m         llabels, rlabels = items_overlap_with_suffix(ldata.items, lsuf,\n\u001b[0;32m--> 575\u001b[0;31m                                                      rdata.items, rsuf)\n\u001b[0m\u001b[1;32m    576\u001b[0m \u001b[0;34m\u001b[0m\u001b[0m\n\u001b[1;32m    577\u001b[0m         \u001b[0mlindexers\u001b[0m \u001b[0;34m=\u001b[0m \u001b[0;34m{\u001b[0m\u001b[0;36m1\u001b[0m\u001b[0;34m:\u001b[0m \u001b[0mleft_indexer\u001b[0m\u001b[0;34m}\u001b[0m \u001b[0;32mif\u001b[0m \u001b[0mleft_indexer\u001b[0m \u001b[0;32mis\u001b[0m \u001b[0;32mnot\u001b[0m \u001b[0;32mNone\u001b[0m \u001b[0;32melse\u001b[0m \u001b[0;34m{\u001b[0m\u001b[0;34m}\u001b[0m\u001b[0;34m\u001b[0m\u001b[0m\n",
      "\u001b[0;32m/Library/Frameworks/Python.framework/Versions/3.6/lib/python3.6/site-packages/pandas/core/internals.py\u001b[0m in \u001b[0;36mitems_overlap_with_suffix\u001b[0;34m(left, lsuffix, right, rsuffix)\u001b[0m\n\u001b[1;32m   4699\u001b[0m         \u001b[0;32mif\u001b[0m \u001b[0;32mnot\u001b[0m \u001b[0mlsuffix\u001b[0m \u001b[0;32mand\u001b[0m \u001b[0;32mnot\u001b[0m \u001b[0mrsuffix\u001b[0m\u001b[0;34m:\u001b[0m\u001b[0;34m\u001b[0m\u001b[0m\n\u001b[1;32m   4700\u001b[0m             raise ValueError('columns overlap but no suffix specified: %s' %\n\u001b[0;32m-> 4701\u001b[0;31m                              to_rename)\n\u001b[0m\u001b[1;32m   4702\u001b[0m \u001b[0;34m\u001b[0m\u001b[0m\n\u001b[1;32m   4703\u001b[0m         \u001b[0;32mdef\u001b[0m \u001b[0mlrenamer\u001b[0m\u001b[0;34m(\u001b[0m\u001b[0mx\u001b[0m\u001b[0;34m)\u001b[0m\u001b[0;34m:\u001b[0m\u001b[0;34m\u001b[0m\u001b[0m\n",
      "\u001b[0;31mValueError\u001b[0m: columns overlap but no suffix specified: Index([0], dtype='object')"
     ]
    }
   ],
   "source": [
    "cafes = cafes.join(music_attributes)"
   ]
  },
  {
   "cell_type": "code",
   "execution_count": 14,
   "metadata": {},
   "outputs": [
    {
     "data": {
      "image/png": "[encoded data removed]",
      "text/plain": [
       "<matplotlib.figure.Figure at 0x11703bdd8>"
      ]
     },
     "metadata": {},
     "output_type": "display_data"
    }
   ],
   "source": [
    "sns.boxplot(y = cafes.stars, x = cafes.Alcohol)\n",
    "pass"
   ]
  },
  {
   "cell_type": "markdown",
   "metadata": {},
   "source": [
    "Looks like places that serve coffee are better off just sticking to coffee than serve alcohol as well, although I can think of a few places that serve both in Portland!\n",
    "\n",
    "These boxplots, while allowing me to compare over a categorical value column, do not show any information on how many records have each of those values. So what plots should I try next?\n",
    "\n",
    "### Review counts\n",
    "When looking up businesses on Yelp, the number of reviews a business has received is a good indication of how popular the establishment is. When both review count and star rating are high, the business is in good standing, in other words, is relatively favorable. My next step is to bring review counts into the picture. What are the best ways to get a decent idea of how the attributes we just unpacked influence review counts?"
   ]
  },
  {
   "cell_type": "code",
   "execution_count": null,
   "metadata": {
    "collapsed": true
   },
   "outputs": [],
   "source": []
  }
 ],
 "metadata": {
  "kernelspec": {
   "display_name": "Python 3",
   "language": "python",
   "name": "python3"
  },
  "language_info": {
   "codemirror_mode": {
    "name": "ipython",
    "version": 3
   },
   "file_extension": ".py",
   "mimetype": "text/x-python",
   "name": "python",
   "nbconvert_exporter": "python",
   "pygments_lexer": "ipython3",
   "version": "3.6.1"
  }
 },
 "nbformat": 4,
 "nbformat_minor": 2
}
